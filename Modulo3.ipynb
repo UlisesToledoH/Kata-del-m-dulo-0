{
 "cells": [
  {
   "cell_type": "markdown",
   "metadata": {},
   "source": [
    "## Problema 1"
   ]
  },
  {
   "cell_type": "markdown",
   "metadata": {},
   "source": [
    "Toledo Hernandez Ulises Gabriel"
   ]
  },
  {
   "cell_type": "code",
   "execution_count": 1,
   "metadata": {},
   "outputs": [
    {
     "name": "stdout",
     "output_type": "stream",
     "text": [
      "ADVERTENCIA! ASTEROIDE ACERCANDOSE\n"
     ]
    }
   ],
   "source": [
    "asteroide=49\n",
    "\n",
    "if asteroide>25:\n",
    "    print('ADVERTENCIA! ASTEROIDE ACERCANDOSE')\n",
    "else:\n",
    "    print('Todo bien humanidad!')"
   ]
  },
  {
   "cell_type": "markdown",
   "metadata": {},
   "source": [
    "## Problema 2"
   ]
  },
  {
   "cell_type": "code",
   "execution_count": 5,
   "metadata": {},
   "outputs": [
    {
     "name": "stdout",
     "output_type": "stream",
     "text": [
      "Cielo despejado, todo ok!\n"
     ]
    }
   ],
   "source": [
    "asteroide=19\n",
    "\n",
    "if asteroide>20:\n",
    "    print('Humanos miren hacia arriba! Pueden visualizar un rayo de luz!')\n",
    "elif asteroide==20:\n",
    "    print('Humanos miren hacia arriba! Pueden visualizar un rayo de luz!')\n",
    "else:\n",
    "    print('Cielo despejado, todo ok!')"
   ]
  },
  {
   "cell_type": "markdown",
   "metadata": {},
   "source": [
    "## Problema 3"
   ]
  },
  {
   "cell_type": "code",
   "execution_count": 3,
   "metadata": {},
   "outputs": [
    {
     "name": "stdout",
     "output_type": "stream",
     "text": [
      "ADVERTENCIA\n",
      "¡El asteroide es muy peligroso!\n"
     ]
    }
   ],
   "source": [
    "velocidad = 30\n",
    "dimension = 30\n",
    "if velocidad > 25 and dimension > 25 :\n",
    "    print('ADVERTENCIA')\n",
    "    print('¡El asteroide es muy peligroso!')\n",
    "elif velocidad >= 20:\n",
    "    print('¡Humanos miren hacia arriba! Pueden visualizar un rayo de luz!')\n",
    "elif dimension < 25:\n",
    "        print('No hay peligro, el asteroide se quemará el asteroide en la atmósfera')\n",
    "        \n",
    "else:\n",
    "    print('nada que ver aqui')"
   ]
  }
 ],
 "metadata": {
  "interpreter": {
   "hash": "f867fb84d72eecf4a1b9db59b09bc3a37cbb7abe186aabb8e938b292d05cd09c"
  },
  "kernelspec": {
   "display_name": "Python 3.10.2 64-bit",
   "language": "python",
   "name": "python3"
  },
  "language_info": {
   "codemirror_mode": {
    "name": "ipython",
    "version": 3
   },
   "file_extension": ".py",
   "mimetype": "text/x-python",
   "name": "python",
   "nbconvert_exporter": "python",
   "pygments_lexer": "ipython3",
   "version": "3.10.2"
  },
  "orig_nbformat": 4
 },
 "nbformat": 4,
 "nbformat_minor": 2
}
